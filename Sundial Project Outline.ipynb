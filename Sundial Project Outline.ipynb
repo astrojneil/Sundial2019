{
 "cells": [
  {
   "cell_type": "markdown",
   "metadata": {},
   "source": [
    "# Approximating Absorption Profiles"
   ]
  },
  {
   "cell_type": "markdown",
   "metadata": {},
   "source": [
    "In this notebook we're going to write code to read in observational data of absorption profiles from galaxy outflows. We're then going to plot these absorption profiles as graphs of flux vs velocity. \n",
    "\n",
    "Next we will use simulated data to approximate the absorption profile from galaxy outflow simulations, and see how those compare to the observations. \n",
    "\n",
    "Finally, we will adjust the simulated absorption profiles to try to match the observations. We can then statistically determine the best way to adjust the asborption profiles in order to fit the observations. "
   ]
  },
  {
   "cell_type": "markdown",
   "metadata": {},
   "source": [
    "First we will import important packages and define constants, like the speed of light!"
   ]
  },
  {
   "cell_type": "code",
   "execution_count": 18,
   "metadata": {
    "collapsed": true
   },
   "outputs": [],
   "source": [
    "#import statements\n",
    "import numpy as np\n",
    "import matplotlib.pyplot as plt\n",
    "import h5py\n",
    "import pandas as pd\n",
    "%matplotlib inline\n",
    "\n",
    "#physical constants\n",
    "c_speed = 3.0e10 #cm/s\n",
    "\n",
    "#Specific to the Ion/Transistion you are looking at:\n",
    "\n",
    "#name of simulation data file\n",
    "sim_file = 'SiIV.txt'\n",
    "#ion/transistion cross section\n",
    "sigma = 6.359e-18 \n",
    "#rest wavelength of transistion\n",
    "rest_wave = 1402.77"
   ]
  },
  {
   "cell_type": "markdown",
   "metadata": {},
   "source": [
    "Now we need to read in observation data, and convert it from wavelength to velocity\n",
    "\n",
    "Hint: \n",
    "the relationship between wavelength and velocity for a particular centeral(rest) wavelength is \n",
    "\n",
    "$$\n",
    "v = c(\\frac{\\lambda}{\\lambda_{rest}} -1)\n",
    "$$"
   ]
  },
  {
   "cell_type": "code",
   "execution_count": 2,
   "metadata": {
    "collapsed": false
   },
   "outputs": [],
   "source": [
    "#read in observation data, save data to variables, convert to velocity and plot a profile"
   ]
  },
  {
   "cell_type": "markdown",
   "metadata": {},
   "source": [
    "Here is a simple call to open up the files with the simulated data"
   ]
  },
  {
   "cell_type": "code",
   "execution_count": 17,
   "metadata": {
    "collapsed": false
   },
   "outputs": [
    {
     "name": "stdout",
     "output_type": "stream",
     "text": [
      "Index(['Run', ' velocity(km/s)', ' b(km/s)', ' Temp(K)', ' N_fit',\n",
      "       ' upper_N_err', ' lower_N_err', ' q_fit', ' upper_q_err',\n",
      "       ' lower_q_err', ' area', ' area_err'],\n",
      "      dtype='object')\n"
     ]
    }
   ],
   "source": [
    "#read in simulation data file, save data to variables\n",
    "sim_data = pd.read_csv(sim_file)\n",
    "#print out the columnds of this data file\n",
    "print(sim_data.columns)"
   ]
  },
  {
   "cell_type": "markdown",
   "metadata": {},
   "source": [
    "Next we can make an approximated absorption profile. We do this by taking the data from one row from the simulated data, and defining the absorption profile function. Using the parameters from the simulated data, the absorption profile can be expressed with the optical depth, $\\tau$, as the function\n",
    "$$\n",
    "\\tau = \\frac{c\\sigma}{\\sqrt{\\pi}b}\\exp(-\\frac{(v + v_{ion})^2}{b^2})\n",
    "$$\n",
    "The optical depth can then be used to calculate the flux, or absorption profile. \n",
    "\n",
    "$$\n",
    "F=\\exp(-\\tau N_{avg})\n",
    "$$\n",
    "\n",
    "The parameters, $b$ and $N_{avg}$, are from the simulated data representing the spread of the velocity of the gas and the average column density of the gas (respectively)"
   ]
  },
  {
   "cell_type": "code",
   "execution_count": 6,
   "metadata": {
    "collapsed": false
   },
   "outputs": [
    {
     "name": "stdout",
     "output_type": "stream",
     "text": [
      "T0.3_v1000_chi300_cond\n"
     ]
    }
   ],
   "source": [
    "#calculate tau/profile shape from simulation data\n",
    "i = 0  #this selects the run\n",
    "print(sim_data['Run'][i])\n",
    "\n",
    "#get data from simulation file\n",
    "vel_ion = sim_data[' velocity(km/s)'][i]\n",
    "b = sim_data[' b(km/s)'][i]\n",
    "N_avg = sim_data[' area'][i]\n",
    "\n",
    "def flux_func(vel_ion, b, N_avg, vels):\n",
    "    sim_flux = np.zeros(100) #replace this with equation for flux!\n",
    "    return sim_flux"
   ]
  },
  {
   "cell_type": "code",
   "execution_count": 7,
   "metadata": {
    "collapsed": false
   },
   "outputs": [],
   "source": [
    "#plot the simulation profile shape"
   ]
  },
  {
   "cell_type": "markdown",
   "metadata": {},
   "source": [
    "One of the ways you can adjust an absorption profile is by adjusting the 'covering fraction'. This is a parameter to describe how much of a cloud of gas actually intersects the line of sight. You may not be looking through the entire cloud, and if that's true, the absorption profile will be less deep than if you look through all of the cloud at once. \n",
    "\n",
    "To capture this, the flux can be described with the expression\n",
    "\n",
    "$$\n",
    "F= (1-k) + k\\exp(-\\tau N_{avg})\n",
    "$$\n",
    "where k is the 'covering fraction'"
   ]
  },
  {
   "cell_type": "code",
   "execution_count": 19,
   "metadata": {
    "collapsed": false
   },
   "outputs": [],
   "source": [
    "#adjust simulation profile with a parameter, plot - can you get it to match observations?\n",
    "#write a new function! \n",
    "def flux_func_cover(vel_ion, b, N_avg, vels, k):\n",
    "    sim_flux = np.zeros(100) #replace this with equation for flux! using new parameter!\n",
    "    return sim_flux"
   ]
  },
  {
   "cell_type": "code",
   "execution_count": 10,
   "metadata": {
    "collapsed": true
   },
   "outputs": [],
   "source": [
    "#plot the simulation profile shape - what covering fraction matches the observations best?"
   ]
  },
  {
   "cell_type": "markdown",
   "metadata": {},
   "source": [
    "How it's time to use statistics to measure the \"goodness of fit\" if you adjust the covering fraction.\n",
    "\n",
    "One way to best the best fit is to \"minimize $\\chi^2$\" - where you calculate $\\chi^2$ for each value of your parameter and find where $\\chi$ is the smallest. $\\chi^2$ is essentially the sum of the differences between the simulated data and the observed data over all data points, so if this value is small, the simulated data must be pretty close to the observations. \n",
    "\n",
    "$$\n",
    "\\chi^2 = \\Sigma_{vels} \\frac{(F_{sim} - F_{obs})^2}{F_{obs}}\n",
    "$$\n",
    "\n",
    "You'll need to loop through all covering fractions you want to test, calculate $\\chi^2$ and find which covering fraction gives the minimum $\\chi^2$\n"
   ]
  },
  {
   "cell_type": "code",
   "execution_count": 11,
   "metadata": {
    "collapsed": false
   },
   "outputs": [],
   "source": [
    "#use statistics to find the most likely value for the new parameter \n",
    "#start with: one ion in one run at one time\n",
    "#next: for one ion in one run, over all four times (different velocities)\n",
    "#extra: for one particular ion over all runs/times?\n",
    "### CHI SQUARED! ###\n",
    "\n",
    "#compare chi squared for each f to find the minimum\n",
    "#plot? find minimum? "
   ]
  },
  {
   "cell_type": "code",
   "execution_count": 13,
   "metadata": {
    "collapsed": false
   },
   "outputs": [],
   "source": [
    "#plot the profile shape from the most likely parameter value over the observation profile"
   ]
  }
 ],
 "metadata": {
  "anaconda-cloud": {},
  "kernelspec": {
   "display_name": "Python [Root]",
   "language": "python",
   "name": "Python [Root]"
  },
  "language_info": {
   "codemirror_mode": {
    "name": "ipython",
    "version": 3
   },
   "file_extension": ".py",
   "mimetype": "text/x-python",
   "name": "python",
   "nbconvert_exporter": "python",
   "pygments_lexer": "ipython3",
   "version": "3.5.2"
  }
 },
 "nbformat": 4,
 "nbformat_minor": 0
}
